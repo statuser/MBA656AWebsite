{
 "cells": [
  {
   "cell_type": "markdown",
   "metadata": {},
   "source": [
    "# Unit 1 (Python) Project\n",
    "\n",
    "## Main objectives:\n",
    "Using the NY Times covid data create a country level epidmic curve.\n",
    "\n",
    "The epidemic curve should be a chart that contains:\n",
    "\n",
    "- A bar chart with the count of new cases for each day\n",
    "- A line plot on top with a 14 day moving average\n",
    "\n",
    "You can see an example of what your finished chart should look like \n",
    "\n"
   ]
  }
 ],
 "metadata": {
  "kernelspec": {
   "display_name": "Python 3",
   "language": "python",
   "name": "python3"
  },
  "language_info": {
   "codemirror_mode": {
    "name": "ipython",
    "version": 3
   },
   "file_extension": ".py",
   "mimetype": "text/x-python",
   "name": "python",
   "nbconvert_exporter": "python",
   "pygments_lexer": "ipython3",
   "version": "3.8.5"
  }
 },
 "nbformat": 4,
 "nbformat_minor": 4
}
