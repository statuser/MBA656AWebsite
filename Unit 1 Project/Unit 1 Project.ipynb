{
 "cells": [
  {
   "cell_type": "markdown",
   "metadata": {},
   "source": [
    "# Unit 1 (Python) Project\n",
    "\n",
    "## Problem Statement:\n",
    "Using the [NY Times covid data](https://raw.githubusercontent.com/nytimes/covid-19-data/master/us-states.csv) (https://raw.githubusercontent.com/nytimes/covid-19-data/master/us-states.csv) create a US Wide level epidmic curve.\n",
    "\n",
    "The epidemic curve should be a chart that contains:\n",
    "\n",
    "- A bar chart with the count of new cases for each day\n",
    "- A line plot on top with a 14 day moving average\n",
    "\n",
    "Here is an example of what your finished chart should look like:\n",
    "\n",
    "![NY Times Epidemic Curve Screenshot](https://raw.githubusercontent.com/statuser/MBA656AWebsite/master/Unit%201%20Project/EpiCurveExample.png)\n",
    "\n",
    "\n",
    "In addition to the country level curve create the epidemic curve for three states.  Make sure that that code can be easily converted to create the curve for any individual state.\n",
    "\n",
    "One of the primary problems with the epidemic curves is that they only provide a single view of the data, they don't correct for obvious confounding factors such as population.  It is obvious that the total case count for California should not be directly compared to the raw case counts for Wyoming.  The standard adjustment is the cases per 100,000 people.  (To computer this value you divide the case rate by the population and multiply that number by 100,000.) You will need to download the population numbers from [https://raw.githubusercontent.com/statuser/MBA656AWebsite/master/Unit%201%20Project/co-est2019-alldata.csv](https://raw.githubusercontent.com/statuser/MBA656AWebsite/master/Unit%201%20Project/co-est2019-alldata.csv).  This file was pulled from the US Census and contains projected population numbers for each county in the the US up through 2019.  Use the 2019 numbers for this comparison.  The documentation and data descrption for this file is at: [https://github.com/statuser/MBA656AWebsite/raw/master/Unit%201%20Project/co-est2019-alldata.pdf](https://github.com/statuser/MBA656AWebsite/raw/master/Unit%201%20Project/co-est2019-alldata.pdf)\n",
    "\n",
    "Create a plot that compares the adjusted case rate for all the states.  This should be the cumulative number of cases at the current time in the data set.  \n",
    "\n",
    "Also create a plot that compares the adjusted death rate for all the states.  This should be the cumulative number of deaths as well.  \n",
    "\n",
    "Finally create a plot that compares the case rate to the death rate.  Are there any outliers?  Any states that preform especially well or especially poorly.  This creates a jumping off point for a more involved prject that looks at the causes of different death rates as well as an investigation into why different states have experienced COVID in different ways.\n",
    "\n",
    "### Learning Objectives\n",
    "\n",
    "This assignment is designed to be a comprehensive evaluation of the first Unit on Programming in Python.  It has a number of interesting challenges that will test your ability to think computationally and solve probelms in a creative way.  \n",
    "\n",
    "For example, the data from the NY Times is presented as cumulative data.  You will need to reconstruct the daily case counts from this data file.\n",
    "\n",
    "You will also need to clean the population data since it contains man fields that are not necessary.  You will also be merging and rescaling data.\n",
    "\n",
    "You have already written some of the code that will be useful in a previous assignment so thinking about code reuse and encapsulation will also be useful.\n",
    "\n",
    "Recall that there are three components of a successful programmer:\n",
    "\n",
    "1. Domain Expertise\n",
    "2. Computational Thinking\n",
    "3. Knowledge of Syntax and Libraries\n",
    "\n",
    "This project is meant to exercise all three aspects.\n",
    "\n",
    "### Deliverables\n",
    "\n",
    "Please turn in a copy of this Jupyter Notebook with all the fields field in and the code correctly run. Make sure that you load the data from the URL's provided instead of from local files that you downloaded.  That way the code can be rerun without adjusting paths or tracking down missing files.\n",
    "\n",
    "The questions are not all weighted equally.  In fact the mjority of the work is contained in the prepatory work section which is not associated with any particular question.  For the open ended response please provide enough details to ensure that we understand your answers and demonstrates that thought you put into those questions.  One or two sentence answers are problem not sufficient for any of the questions."
   ]
  },
  {
   "cell_type": "markdown",
   "metadata": {},
   "source": [
    "## Problem 1 - (Demonstrate Domain Expertise)\n",
    "\n",
    "Please restate the problem in your own words. (The purpose of this is to make sure you understand the data request and the problem statement and deliverables.  You should be creating 7 final charts although you may need to create some intermediate plots to understand the process.)\n",
    "\n"
   ]
  },
  {
   "cell_type": "markdown",
   "metadata": {},
   "source": [
    "## Problem 1 Response\n",
    "\n",
    "> Put response Here"
   ]
  },
  {
   "cell_type": "markdown",
   "metadata": {},
   "source": [
    "## Problem 2 - (Develop deeper domain expertise)\n",
    "\n",
    "Before we can write some psuedo-code to solve the specific problem, it is useful to do some exploration of the data files and preliminary cleaning.  The goal of this is to identify the data that we will need to use as well as understand any transformation or data deficiencies that exist.  There is not any specific deliverables for this problem, but after this exercise you should have two data files that contain the data that you need to complete the assignment.  You should only be exploring and doing basic cleaning at this point.  We will save transforming and summarizing the data until after you have written your psuedo-code."
   ]
  },
  {
   "cell_type": "code",
   "execution_count": 7,
   "metadata": {},
   "outputs": [],
   "source": [
    "# Python code to import the two data files, examine them, and filter out unnecessary columns"
   ]
  },
  {
   "cell_type": "markdown",
   "metadata": {},
   "source": [
    "## Problem 3 - (Computational Thinking)\n",
    "\n",
    "Write psudo-code for the assignment.  Think carefully about what you need to accomplish and what steps you need to take in which order in order to accomplish that task."
   ]
  },
  {
   "cell_type": "markdown",
   "metadata": {},
   "source": [
    "## Problem 3 Response\n",
    "\n",
    "> Put response here"
   ]
  },
  {
   "cell_type": "markdown",
   "metadata": {},
   "source": [
    "## Preparatory work\n",
    "\n",
    "Write the code to clean and transform the data files so that the plots can be easily created. "
   ]
  },
  {
   "cell_type": "code",
   "execution_count": null,
   "metadata": {},
   "outputs": [],
   "source": []
  },
  {
   "cell_type": "markdown",
   "metadata": {},
   "source": [
    "# Problem 4 - (Syntax and Libraries)\n",
    "\n",
    "Create the epidemic curve for the country"
   ]
  },
  {
   "cell_type": "code",
   "execution_count": 8,
   "metadata": {},
   "outputs": [],
   "source": [
    "# Graph should appear here"
   ]
  },
  {
   "cell_type": "markdown",
   "metadata": {
    "hideOutput": true
   },
   "source": [
    "## Problem 5 - (Syntax and Libraries)\n",
    "\n",
    "Create the three state epidemic curves"
   ]
  },
  {
   "cell_type": "code",
   "execution_count": 9,
   "metadata": {
    "hideCode": true
   },
   "outputs": [],
   "source": [
    "# Function to create a state plot here"
   ]
  },
  {
   "cell_type": "code",
   "execution_count": 10,
   "metadata": {},
   "outputs": [],
   "source": [
    "# Call function for first state plot"
   ]
  },
  {
   "cell_type": "code",
   "execution_count": 11,
   "metadata": {},
   "outputs": [],
   "source": [
    "# Call function for second state plot"
   ]
  },
  {
   "cell_type": "code",
   "execution_count": 12,
   "metadata": {},
   "outputs": [],
   "source": [
    "# Call function for third state plot"
   ]
  },
  {
   "cell_type": "markdown",
   "metadata": {},
   "source": [
    "## Problem 6 - (Syntax and Libraries)\n",
    "\n",
    "Create the plot for the population adjusted case rates"
   ]
  },
  {
   "cell_type": "code",
   "execution_count": 13,
   "metadata": {},
   "outputs": [],
   "source": [
    "# Graph should appear here"
   ]
  },
  {
   "cell_type": "markdown",
   "metadata": {},
   "source": [
    "## Problem 7 - (Syntax and Libraries)\n",
    "\n",
    "Create the plot for the population adjusted death rates"
   ]
  },
  {
   "cell_type": "code",
   "execution_count": 14,
   "metadata": {},
   "outputs": [],
   "source": [
    "# Graph should appear here"
   ]
  },
  {
   "cell_type": "markdown",
   "metadata": {},
   "source": [
    "## Problem 8 - (Syntax and Libraries)\n",
    "\n",
    "Create the scatter plot comparing the population adjusted case and death rates"
   ]
  },
  {
   "cell_type": "code",
   "execution_count": 15,
   "metadata": {},
   "outputs": [],
   "source": [
    "# Graph should appear here"
   ]
  },
  {
   "cell_type": "markdown",
   "metadata": {},
   "source": [
    "## Problem 9 - (Demonstrate Domain Expertise)\n",
    "\n",
    "What stands out to you about this plot?  What would you like to investigate further?  How are you identifying the individual states that are worth investigating.  County level rates and populations are also available. How might this data be used to address some of the pressing questions about the pandemic?"
   ]
  },
  {
   "cell_type": "markdown",
   "metadata": {},
   "source": [
    "## Problem 9 Response\n",
    "\n",
    "> Put answers here"
   ]
  },
  {
   "cell_type": "markdown",
   "metadata": {},
   "source": [
    "## Problem 10 - (Domain Expertise combined with Computation Thinking)\n",
    "\n",
    "What additional questions did this exercise surface?  How would you go about addressing these questions?  What additional data would you need?  The great news is that tons of data is available already.  The NY Times has made all their COVID data available including data from surveys on things like mask usage, state lockdown policies, and attitudes about the virus and the response to the virus."
   ]
  },
  {
   "cell_type": "markdown",
   "metadata": {},
   "source": [
    "## Problem 10 Response\n",
    "> Put answers here"
   ]
  }
 ],
 "metadata": {
  "kernelspec": {
   "display_name": "Python 3",
   "language": "python",
   "name": "python3"
  },
  "language_info": {
   "codemirror_mode": {
    "name": "ipython",
    "version": 3
   },
   "file_extension": ".py",
   "mimetype": "text/x-python",
   "name": "python",
   "nbconvert_exporter": "python",
   "pygments_lexer": "ipython3",
   "version": "3.8.5"
  }
 },
 "nbformat": 4,
 "nbformat_minor": 4
}
