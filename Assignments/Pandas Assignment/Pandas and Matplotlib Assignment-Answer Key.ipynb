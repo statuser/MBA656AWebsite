{
 "cells": [
  {
   "cell_type": "code",
   "execution_count": 3,
   "metadata": {},
   "outputs": [],
   "source": [
    "# Standard Import of Libraries\n",
    "\n",
    "import pandas as pd\n",
    "import matplotlib.pyplot as plt\n",
    "\n",
    "# Make the graphs a bit prettier, and bigger\n",
    "plt.style.use('ggplot')\n",
    "plt.rcParams['figure.figsize'] = (15, 5)\n"
   ]
  },
  {
   "cell_type": "markdown",
   "metadata": {},
   "source": [
    "The data set we are going to be working with comes from anarticle prepared by fivethirtyeight.com about college fight songs.  \n",
    "\n",
    "The documentation and data description has been coppied from their github repository located at:\n",
    "(Fight Song Data) https://github.com/fivethirtyeight/data/tree/master/fight-songs"
   ]
  },
  {
   "cell_type": "markdown",
   "metadata": {},
   "source": [
    "# fight-songs\n",
    "\n",
    "This folder contains data behind the story [Our Guide To The Exuberant Nonsense Of College Fight Songs](https://projects.fivethirtyeight.com/college-fight-song-lyrics/).\n",
    "\n",
    "\n",
    "`fight-songs.csv` contains data about fight songs from all schools in the Power Five conferences — the ACC, Big Ten, Big 12, Pac-12 and SEC — plus Notre Dame. Some schools have more than one fight song, and some of the songs sanctioned as “official” by their schools aren’t the ones that fans sing out. We chose the songs that seemed best-known and best-loved. We also limited our analysis to the lyrics sung most regularly and also published by the school, so some verses were not included in the analysis. The tempo and length information come from the version of the song we chose from those available on Spotify.\n",
    " \n",
    "Column definitions:\n",
    "\n",
    "Column   | Description\n",
    "---------|---------------\n",
    "`school`| School name\n",
    "`conference`| School college football conference\n",
    "`song_name`| Song title\n",
    "`writers`| Song author\n",
    "`year`| Year the song written. Some values are `Unknown`\n",
    "`student_writer`| Was the author a student? Some values are `Unknown`\n",
    "`official_song`| Is the song the official fight song according to the university?\n",
    "`contest`| Was the song chosen as the result of a contest?\n",
    "`bpm`| Beats per minute\n",
    "`sec_duration`| Duration of song in seconds\n",
    "`fight`| Does the song say “fight”?\n",
    "`number_fights`| Number of times the song says “fight”?\n",
    "`victory`| Does the song say “victory”?\n",
    "`win_won`| Does the song say “win” or “won”? \n",
    "`victory_win_won`| Does the song say “victory,” “win” or “won”? \n",
    "`rah`| Does the song say “rah”?\n",
    "`nonsense`| Does the song use nonsense syllables (e.g. \"Whoo-Rah\" or \"Hooperay\")\n",
    "`colors`| Does the song mention the school colors? \n",
    "`men`| Does the song refer to a group of men (e.g. men, boys, sons, etc.)?\n",
    "`opponents`| Does the song mention any opponents?\n",
    "`spelling`| Does the song spell anything?\n",
    "`trope_count`| Total number of tropes (`fight`, `victory`, `win_won`, `rah`, `nonsense`,`colors`, `men`, `opponents`, and `spelling`).\n",
    "`spotify_id`| Spotify id for the song"
   ]
  },
  {
   "cell_type": "markdown",
   "metadata": {},
   "source": [
    "The file can be downloaded from https://raw.githubusercontent.com/fivethirtyeight/data/master/fight-songs/fight-songs.csv"
   ]
  },
  {
   "cell_type": "markdown",
   "metadata": {},
   "source": [
    "## Problem 1\n",
    "\n",
    "Import the .csv file into this notebook.  Make sure that the data comes in as expected by printing the first five rows of the file."
   ]
  },
  {
   "cell_type": "code",
   "execution_count": 100,
   "metadata": {},
   "outputs": [
    {
     "data": {
      "text/html": [
       "<div>\n",
       "<style scoped>\n",
       "    .dataframe tbody tr th:only-of-type {\n",
       "        vertical-align: middle;\n",
       "    }\n",
       "\n",
       "    .dataframe tbody tr th {\n",
       "        vertical-align: top;\n",
       "    }\n",
       "\n",
       "    .dataframe thead th {\n",
       "        text-align: right;\n",
       "    }\n",
       "</style>\n",
       "<table border=\"1\" class=\"dataframe\">\n",
       "  <thead>\n",
       "    <tr style=\"text-align: right;\">\n",
       "      <th></th>\n",
       "      <th>conference</th>\n",
       "      <th>song_name</th>\n",
       "      <th>writers</th>\n",
       "      <th>year</th>\n",
       "      <th>student_writer</th>\n",
       "      <th>official_song</th>\n",
       "      <th>contest</th>\n",
       "      <th>bpm</th>\n",
       "      <th>sec_duration</th>\n",
       "      <th>fight</th>\n",
       "      <th>...</th>\n",
       "      <th>win_won</th>\n",
       "      <th>victory_win_won</th>\n",
       "      <th>rah</th>\n",
       "      <th>nonsense</th>\n",
       "      <th>colors</th>\n",
       "      <th>men</th>\n",
       "      <th>opponents</th>\n",
       "      <th>spelling</th>\n",
       "      <th>trope_count</th>\n",
       "      <th>spotify_id</th>\n",
       "    </tr>\n",
       "    <tr>\n",
       "      <th>school</th>\n",
       "      <th></th>\n",
       "      <th></th>\n",
       "      <th></th>\n",
       "      <th></th>\n",
       "      <th></th>\n",
       "      <th></th>\n",
       "      <th></th>\n",
       "      <th></th>\n",
       "      <th></th>\n",
       "      <th></th>\n",
       "      <th></th>\n",
       "      <th></th>\n",
       "      <th></th>\n",
       "      <th></th>\n",
       "      <th></th>\n",
       "      <th></th>\n",
       "      <th></th>\n",
       "      <th></th>\n",
       "      <th></th>\n",
       "      <th></th>\n",
       "      <th></th>\n",
       "    </tr>\n",
       "  </thead>\n",
       "  <tbody>\n",
       "    <tr>\n",
       "      <th>Notre Dame</th>\n",
       "      <td>Independent</td>\n",
       "      <td>Victory March</td>\n",
       "      <td>Michael J. Shea and John F. Shea</td>\n",
       "      <td>1908</td>\n",
       "      <td>No</td>\n",
       "      <td>Yes</td>\n",
       "      <td>No</td>\n",
       "      <td>152</td>\n",
       "      <td>64</td>\n",
       "      <td>Yes</td>\n",
       "      <td>...</td>\n",
       "      <td>Yes</td>\n",
       "      <td>Yes</td>\n",
       "      <td>Yes</td>\n",
       "      <td>No</td>\n",
       "      <td>Yes</td>\n",
       "      <td>Yes</td>\n",
       "      <td>No</td>\n",
       "      <td>No</td>\n",
       "      <td>6</td>\n",
       "      <td>15a3ShKX3XWKzq0lSS48yr</td>\n",
       "    </tr>\n",
       "    <tr>\n",
       "      <th>Baylor</th>\n",
       "      <td>Big 12</td>\n",
       "      <td>Old Fight</td>\n",
       "      <td>Dick Baker and Frank Boggs</td>\n",
       "      <td>1947</td>\n",
       "      <td>Yes</td>\n",
       "      <td>Yes</td>\n",
       "      <td>No</td>\n",
       "      <td>76</td>\n",
       "      <td>99</td>\n",
       "      <td>Yes</td>\n",
       "      <td>...</td>\n",
       "      <td>Yes</td>\n",
       "      <td>Yes</td>\n",
       "      <td>No</td>\n",
       "      <td>No</td>\n",
       "      <td>Yes</td>\n",
       "      <td>No</td>\n",
       "      <td>No</td>\n",
       "      <td>Yes</td>\n",
       "      <td>5</td>\n",
       "      <td>2ZsaI0Cu4nz8DHfBkPt0Dl</td>\n",
       "    </tr>\n",
       "    <tr>\n",
       "      <th>Iowa State</th>\n",
       "      <td>Big 12</td>\n",
       "      <td>Iowa State Fights</td>\n",
       "      <td>Jack Barker, Manly Rice, Paul Gnam, Rosalind K...</td>\n",
       "      <td>1930</td>\n",
       "      <td>Yes</td>\n",
       "      <td>Yes</td>\n",
       "      <td>No</td>\n",
       "      <td>155</td>\n",
       "      <td>55</td>\n",
       "      <td>Yes</td>\n",
       "      <td>...</td>\n",
       "      <td>No</td>\n",
       "      <td>No</td>\n",
       "      <td>Yes</td>\n",
       "      <td>No</td>\n",
       "      <td>No</td>\n",
       "      <td>Yes</td>\n",
       "      <td>No</td>\n",
       "      <td>Yes</td>\n",
       "      <td>4</td>\n",
       "      <td>3yyfoOXZQCtR6pfRJqu9pl</td>\n",
       "    </tr>\n",
       "    <tr>\n",
       "      <th>Kansas</th>\n",
       "      <td>Big 12</td>\n",
       "      <td>I'm a Jayhawk</td>\n",
       "      <td>George \"Dumpy\" Bowles</td>\n",
       "      <td>1912</td>\n",
       "      <td>Yes</td>\n",
       "      <td>Yes</td>\n",
       "      <td>No</td>\n",
       "      <td>137</td>\n",
       "      <td>62</td>\n",
       "      <td>No</td>\n",
       "      <td>...</td>\n",
       "      <td>No</td>\n",
       "      <td>No</td>\n",
       "      <td>No</td>\n",
       "      <td>Yes</td>\n",
       "      <td>No</td>\n",
       "      <td>Yes</td>\n",
       "      <td>Yes</td>\n",
       "      <td>No</td>\n",
       "      <td>3</td>\n",
       "      <td>0JzbjZgcjugS0dmPjF9R89</td>\n",
       "    </tr>\n",
       "    <tr>\n",
       "      <th>Kansas State</th>\n",
       "      <td>Big 12</td>\n",
       "      <td>Wildcat Victory</td>\n",
       "      <td>Harry E. Erickson</td>\n",
       "      <td>1927</td>\n",
       "      <td>Yes</td>\n",
       "      <td>Yes</td>\n",
       "      <td>No</td>\n",
       "      <td>80</td>\n",
       "      <td>67</td>\n",
       "      <td>Yes</td>\n",
       "      <td>...</td>\n",
       "      <td>No</td>\n",
       "      <td>Yes</td>\n",
       "      <td>No</td>\n",
       "      <td>No</td>\n",
       "      <td>Yes</td>\n",
       "      <td>No</td>\n",
       "      <td>No</td>\n",
       "      <td>No</td>\n",
       "      <td>3</td>\n",
       "      <td>4xxDK4g1OHhZ44sTFy8Ktm</td>\n",
       "    </tr>\n",
       "  </tbody>\n",
       "</table>\n",
       "<p>5 rows × 22 columns</p>\n",
       "</div>"
      ],
      "text/plain": [
       "               conference          song_name  \\\n",
       "school                                         \n",
       "Notre Dame    Independent      Victory March   \n",
       "Baylor             Big 12          Old Fight   \n",
       "Iowa State         Big 12  Iowa State Fights   \n",
       "Kansas             Big 12      I'm a Jayhawk   \n",
       "Kansas State       Big 12    Wildcat Victory   \n",
       "\n",
       "                                                        writers  year  \\\n",
       "school                                                                  \n",
       "Notre Dame                     Michael J. Shea and John F. Shea  1908   \n",
       "Baylor                               Dick Baker and Frank Boggs  1947   \n",
       "Iowa State    Jack Barker, Manly Rice, Paul Gnam, Rosalind K...  1930   \n",
       "Kansas                                    George \"Dumpy\" Bowles  1912   \n",
       "Kansas State                                  Harry E. Erickson  1927   \n",
       "\n",
       "             student_writer official_song contest  bpm  sec_duration fight  \\\n",
       "school                                                                       \n",
       "Notre Dame               No           Yes      No  152            64   Yes   \n",
       "Baylor                  Yes           Yes      No   76            99   Yes   \n",
       "Iowa State              Yes           Yes      No  155            55   Yes   \n",
       "Kansas                  Yes           Yes      No  137            62    No   \n",
       "Kansas State            Yes           Yes      No   80            67   Yes   \n",
       "\n",
       "              ...  win_won victory_win_won  rah nonsense colors  men  \\\n",
       "school        ...                                                      \n",
       "Notre Dame    ...      Yes             Yes  Yes       No    Yes  Yes   \n",
       "Baylor        ...      Yes             Yes   No       No    Yes   No   \n",
       "Iowa State    ...       No              No  Yes       No     No  Yes   \n",
       "Kansas        ...       No              No   No      Yes     No  Yes   \n",
       "Kansas State  ...       No             Yes   No       No    Yes   No   \n",
       "\n",
       "             opponents spelling trope_count              spotify_id  \n",
       "school                                                               \n",
       "Notre Dame          No       No           6  15a3ShKX3XWKzq0lSS48yr  \n",
       "Baylor              No      Yes           5  2ZsaI0Cu4nz8DHfBkPt0Dl  \n",
       "Iowa State          No      Yes           4  3yyfoOXZQCtR6pfRJqu9pl  \n",
       "Kansas             Yes       No           3  0JzbjZgcjugS0dmPjF9R89  \n",
       "Kansas State        No       No           3  4xxDK4g1OHhZ44sTFy8Ktm  \n",
       "\n",
       "[5 rows x 22 columns]"
      ]
     },
     "execution_count": 100,
     "metadata": {},
     "output_type": "execute_result"
    }
   ],
   "source": [
    "# Put import code here\n",
    "fight_song_data = pd.read_csv(\"https://raw.githubusercontent.com/fivethirtyeight/data/master/fight-songs/fight-songs.csv\", index_col=\"school\")\n",
    "fight_song_data[:5]\n",
    "fight_song_data.loc[:'Kansas State', :]\n",
    "fight_song_data.iloc[:5,]"
   ]
  },
  {
   "cell_type": "markdown",
   "metadata": {},
   "source": [
    "## Problem 2 \n",
    "\n",
    "Create a scatter plot of the fight songs comparing beats per minute and duration. Find the average beats per minute and the the average duration and place horizontal lines on tthe chart representing these values.\n",
    "\n",
    "You are basically creating the first graph presented at [Our Guide To The Exuberant Nonsense Of College Fight Songs](https://projects.fivethirtyeight.com/college-fight-song-lyrics/) from five thirty eight.  Since we are focusing on exploratory data for this class you do not need to include the interactivity that the article includes.\n",
    "\n"
   ]
  },
  {
   "cell_type": "code",
   "execution_count": 25,
   "metadata": {},
   "outputs": [
    {
     "data": {
      "text/plain": [
       "<matplotlib.lines.Line2D at 0x12c47a1c0>"
      ]
     },
     "execution_count": 25,
     "metadata": {},
     "output_type": "execute_result"
    },
    {
     "data": {
      "image/png": "[encoded data removed]",
      "text/plain": [
       "<Figure size 1080x360 with 1 Axes>"
      ]
     },
     "metadata": {},
     "output_type": "display_data"
    }
   ],
   "source": [
    "bpm_and_duration = fight_song_data[['bpm', 'sec_duration']]\n",
    "bpm_and_duration_means = bpm_and_duration.mean()\n",
    "bpm_and_duration.plot.scatter(x='sec_duration', y='bpm')\n",
    "plt.axvline(bpm_and_duration_means['sec_duration'])\n",
    "plt.axhline(bpm_and_duration_means['bpm'])\n"
   ]
  },
  {
   "cell_type": "markdown",
   "metadata": {},
   "source": [
    "## Problem 3\n",
    "\n",
    "Recreate the scatter plot only color each conference separately.\n"
   ]
  },
  {
   "cell_type": "code",
   "execution_count": 41,
   "metadata": {},
   "outputs": [
    {
     "data": {
      "image/png": "[encoded data removed]",
      "text/plain": [
       "<Figure size 1080x360 with 1 Axes>"
      ]
     },
     "metadata": {},
     "output_type": "display_data"
    }
   ],
   "source": [
    "conferences = fight_song_data.groupby('conference')\n",
    "\n",
    "# Plot\n",
    "fig, ax = plt.subplots()\n",
    "ax.margins(0.05) # Optional, just adds 5% padding to the autoscaling\n",
    "for name, conference in conferences:\n",
    "    ax.plot(conference.sec_duration, conference.bpm, marker='o', linestyle='', ms=12, label=name)\n",
    "ax.legend()\n",
    "\n",
    "plt.show()"
   ]
  },
  {
   "cell_type": "markdown",
   "metadata": {},
   "source": [
    "Are there any patterns that standout?  What we are really looking for is if there are any regional differences between preferences for the length of the song and or the duration of the song.  Since most of these songs were written before nationally televised games regional differences might stand out."
   ]
  },
  {
   "cell_type": "markdown",
   "metadata": {},
   "source": [
    ">Nothing really standas out for the conferences.  It would be interesting to look at the data in a couple of different ways.  The is a big difference in the beats per minute, but conference doesn't seem to explain it."
   ]
  },
  {
   "cell_type": "markdown",
   "metadata": {},
   "source": [
    "## Problem 4\n",
    "\n",
    "Speaking of when the songs were written it would be interesting to figure out when the heyday of modern fight songs is.  One way to do this is to create a histogram of the year that the songs were written.  We can then look at the distribution of the dates and determine whether they follow a clear distribution.  **Create a histogram of the date that the songs were written.**"
   ]
  },
  {
   "cell_type": "code",
   "execution_count": 104,
   "metadata": {},
   "outputs": [
    {
     "data": {
      "text/plain": [
       "<AxesSubplot:ylabel='Frequency'>"
      ]
     },
     "execution_count": 104,
     "metadata": {},
     "output_type": "execute_result"
    },
    {
     "data": {
      "image/png": "[encoded data removed]",
      "text/plain": [
       "<Figure size 1080x360 with 1 Axes>"
      ]
     },
     "metadata": {},
     "output_type": "display_data"
    }
   ],
   "source": [
    "fight_song_data['year'] = pd.to_numeric(fight_song_data.year, errors='coerce', downcast='integer')\n",
    "fight_song_data['year'].astype('Int64').plot.hist()\n",
    "#.astype('Int64')"
   ]
  },
  {
   "cell_type": "markdown",
   "metadata": {},
   "source": [
    "## Problem 5\n",
    "The biggest problem with the data set is that BYU is missing since we are not part of a power five conference.\n",
    "\n",
    "**Append the BYU data to the dataset**\n",
    "\n",
    "You can find the official information about the song from [COUGAR FIGHT SONG](https://byucougars.com/story/athletics/79982/cougar-fight-song)\n",
    "\n",
    "You can find the duration and BPM at [BPM Finder](https://songbpm.com/searches/the-cougar-song-brigham-young-university)\n",
    "\n",
    "**Repeat the scatter plot analysis only highlighting BYU this time.**"
   ]
  },
  {
   "cell_type": "code",
   "execution_count": 7,
   "metadata": {},
   "outputs": [],
   "source": [
    "# Put Problem 5 Code Here"
   ]
  },
  {
   "cell_type": "markdown",
   "metadata": {},
   "source": [
    "**How does BYU compare to the rest of the fight songs in the country?**"
   ]
  },
  {
   "cell_type": "markdown",
   "metadata": {},
   "source": [
    "> Include your answer to the previous question here"
   ]
  },
  {
   "cell_type": "markdown",
   "metadata": {},
   "source": [
    "## Problem 6\n",
    "\n",
    "What additional analysis do you think would be interesting for this dataset?  Another way to phrase the question is what analytics questions are interesting about fight songs?\n",
    "\n",
    "Is there any additinoal data that you would need to go out and find?\n",
    "\n",
    "How woudl you go about collecting this data?"
   ]
  },
  {
   "cell_type": "markdown",
   "metadata": {},
   "source": [
    "> Put your answer to the previous question here"
   ]
  },
  {
   "cell_type": "code",
   "execution_count": null,
   "metadata": {},
   "outputs": [],
   "source": []
  }
 ],
 "metadata": {
  "kernelspec": {
   "display_name": "Python 3",
   "language": "python",
   "name": "python3"
  },
  "language_info": {
   "codemirror_mode": {
    "name": "ipython",
    "version": 3
   },
   "file_extension": ".py",
   "mimetype": "text/x-python",
   "name": "python",
   "nbconvert_exporter": "python",
   "pygments_lexer": "ipython3",
   "version": "3.8.5"
  }
 },
 "nbformat": 4,
 "nbformat_minor": 4
}
