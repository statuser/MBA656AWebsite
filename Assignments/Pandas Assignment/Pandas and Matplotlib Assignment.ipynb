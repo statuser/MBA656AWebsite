{
 "cells": [
  {
   "cell_type": "code",
   "execution_count": 2,
   "metadata": {},
   "outputs": [],
   "source": [
    "# Standard Import of Libraries\n",
    "\n",
    "import pandas as pd\n",
    "import matplotlib.pyplot as plt\n",
    "\n",
    "# Make the graphs a bit prettier, and bigger\n",
    "plt.style.use('ggplot')\n",
    "plt.rcParams['figure.figsize'] = (15, 5)\n"
   ]
  },
  {
   "cell_type": "markdown",
   "metadata": {},
   "source": [
    "The data set we are going to be working with comes from anarticle prepared by fivethirtyeight.com about college fight songs.  \n",
    "\n",
    "The documentation and data description has been coppied from their github repository located at:\n",
    "(Fight Song Data) https://github.com/fivethirtyeight/data/tree/master/fight-songs"
   ]
  },
  {
   "cell_type": "markdown",
   "metadata": {},
   "source": [
    "# fight-songs\n",
    "\n",
    "This folder contains data behind the story [Our Guide To The Exuberant Nonsense Of College Fight Songs](https://projects.fivethirtyeight.com/college-fight-song-lyrics/).\n",
    "\n",
    "\n",
    "`fight-songs.csv` contains data about fight songs from all schools in the Power Five conferences — the ACC, Big Ten, Big 12, Pac-12 and SEC — plus Notre Dame. Some schools have more than one fight song, and some of the songs sanctioned as “official” by their schools aren’t the ones that fans sing out. We chose the songs that seemed best-known and best-loved. We also limited our analysis to the lyrics sung most regularly and also published by the school, so some verses were not included in the analysis. The tempo and length information come from the version of the song we chose from those available on Spotify.\n",
    " \n",
    "Column definitions:\n",
    "\n",
    "Column   | Description\n",
    "---------|---------------\n",
    "`school`| School name\n",
    "`conference`| School college football conference\n",
    "`song_name`| Song title\n",
    "`writers`| Song author\n",
    "`year`| Year the song written. Some values are `Unknown`\n",
    "`student_writer`| Was the author a student? Some values are `Unknown`\n",
    "`official_song`| Is the song the official fight song according to the university?\n",
    "`contest`| Was the song chosen as the result of a contest?\n",
    "`bpm`| Beats per minute\n",
    "`sec_duration`| Duration of song in seconds\n",
    "`fight`| Does the song say “fight”?\n",
    "`number_fights`| Number of times the song says “fight”?\n",
    "`victory`| Does the song say “victory”?\n",
    "`win_won`| Does the song say “win” or “won”? \n",
    "`victory_win_won`| Does the song say “victory,” “win” or “won”? \n",
    "`rah`| Does the song say “rah”?\n",
    "`nonsense`| Does the song use nonsense syllables (e.g. \"Whoo-Rah\" or \"Hooperay\")\n",
    "`colors`| Does the song mention the school colors? \n",
    "`men`| Does the song refer to a group of men (e.g. men, boys, sons, etc.)?\n",
    "`opponents`| Does the song mention any opponents?\n",
    "`spelling`| Does the song spell anything?\n",
    "`trope_count`| Total number of tropes (`fight`, `victory`, `win_won`, `rah`, `nonsense`,`colors`, `men`, `opponents`, and `spelling`).\n",
    "`spotify_id`| Spotify id for the song"
   ]
  },
  {
   "cell_type": "markdown",
   "metadata": {},
   "source": [
    "The file can be downloaded from https://raw.githubusercontent.com/fivethirtyeight/data/master/fight-songs/fight-songs.csv"
   ]
  },
  {
   "cell_type": "markdown",
   "metadata": {},
   "source": [
    "## Problem 1\n",
    "\n",
    "Import the .csv file into this notebook.  Make sure that the data comes in as expected by printing the first five rows of the file."
   ]
  },
  {
   "cell_type": "code",
   "execution_count": 4,
   "metadata": {},
   "outputs": [],
   "source": [
    "# Put import code here\n",
    "fight_song_data = ..."
   ]
  },
  {
   "cell_type": "markdown",
   "metadata": {},
   "source": [
    "## Problem 2 \n",
    "\n",
    "Create a scatter plot of the fight songs comparing beats per minute and duration. Find the average beats per minute and the the average duration and place horizontal lines on tthe chart representing these values.\n",
    "\n",
    "You are basically creating the first graph presented at [Our Guide To The Exuberant Nonsense Of College Fight Songs](https://projects.fivethirtyeight.com/college-fight-song-lyrics/) from five thirty eight.  Since we are focusing on exploratory data for this class you do not need to include the interactivity that the article includes.\n",
    "\n"
   ]
  },
  {
   "cell_type": "code",
   "execution_count": null,
   "metadata": {},
   "outputs": [],
   "source": [
    "# Put code for problem 2 Here"
   ]
  },
  {
   "cell_type": "markdown",
   "metadata": {},
   "source": [
    "## Problem 3\n",
    "\n",
    "Recreate the scatter plot only color each conference separately.\n"
   ]
  },
  {
   "cell_type": "code",
   "execution_count": 5,
   "metadata": {},
   "outputs": [],
   "source": [
    "# Put code for problem 3 here"
   ]
  },
  {
   "cell_type": "markdown",
   "metadata": {},
   "source": [
    "Are there any patterns that standout?  What we are really looking for is if there are any regional differences between preferences for the length of the song and or the duration of the song.  Since most of these songs were written before nationally televised games regional differences might stand out."
   ]
  },
  {
   "cell_type": "markdown",
   "metadata": {},
   "source": [
    ">Include your answer to the previous question here"
   ]
  },
  {
   "cell_type": "markdown",
   "metadata": {},
   "source": [
    "## Problem 4\n",
    "\n",
    "Speaking of when the songs were written it would be interesting to figure out when the heyday of modern fight songs is.  One way to do this is to create a histogram of the year that the songs were written.  We can then look at the distribution of the dates and determine whether they follow a clear distribution.  **Create a histogram of the data that the songs were written.**"
   ]
  },
  {
   "cell_type": "code",
   "execution_count": 6,
   "metadata": {},
   "outputs": [],
   "source": [
    "# Put code for problem 4 here"
   ]
  },
  {
   "cell_type": "markdown",
   "metadata": {},
   "source": [
    "## Problem 5\n",
    "The biggest problem with the data set is that BYU is missing since we are not part of a power five conference.\n",
    "\n",
    "**Append the BYU data to the dataset**\n",
    "\n",
    "You can find the official information about the song from [COUGAR FIGHT SONG](https://byucougars.com/story/athletics/79982/cougar-fight-song)\n",
    "\n",
    "You can find the duration and BPM at [BPM Finder](https://songbpm.com/searches/the-cougar-song-brigham-young-university)\n",
    "\n",
    "**Repeat the scatter plot analysis only highlighting BYU this time.**"
   ]
  },
  {
   "cell_type": "code",
   "execution_count": 7,
   "metadata": {},
   "outputs": [],
   "source": [
    "# Put Problem 5 Code Here"
   ]
  },
  {
   "cell_type": "markdown",
   "metadata": {},
   "source": [
    "**How does BYU compare to the rest of the fight songs in the country?**"
   ]
  },
  {
   "cell_type": "markdown",
   "metadata": {},
   "source": [
    "> Include your answer to the previous question here"
   ]
  },
  {
   "cell_type": "markdown",
   "metadata": {},
   "source": [
    "## Problem 6\n",
    "\n",
    "What additional analysis do you think would be interesting for this dataset?  Another way to phrase the question is what analytics questions are interesting about fight songs?\n",
    "\n",
    "Is there any additinoal data that you would need to go out and find?\n",
    "\n",
    "How woudl you go about collecting this data?"
   ]
  },
  {
   "cell_type": "markdown",
   "metadata": {},
   "source": [
    "> Put your answer to the previous question here"
   ]
  },
  {
   "cell_type": "code",
   "execution_count": null,
   "metadata": {},
   "outputs": [],
   "source": []
  }
 ],
 "metadata": {
  "kernelspec": {
   "display_name": "Python 3",
   "language": "python",
   "name": "python3"
  },
  "language_info": {
   "codemirror_mode": {
    "name": "ipython",
    "version": 3
   },
   "file_extension": ".py",
   "mimetype": "text/x-python",
   "name": "python",
   "nbconvert_exporter": "python",
   "pygments_lexer": "ipython3",
   "version": "3.8.5"
  }
 },
 "nbformat": 4,
 "nbformat_minor": 4
}
