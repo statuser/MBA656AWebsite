{
 "cells": [
  {
   "cell_type": "markdown",
   "metadata": {},
   "source": [
    "# Jupyter Notebooks Introduction"
   ]
  },
  {
   "cell_type": "markdown",
   "metadata": {},
   "source": [
    "This tour will work better in interactive model, so it'll be better if you get IPython notebook installed and running.  You can start doing this by opening a terminal on Mac or command prompt on Windows and installing ipython using pip.\n",
    "\n",
    "`pip install \"ipython[all]\"`\n",
    "\n",
    "Wait for a while for it to complete and then you can test to make sure everything is installed and working correctly.\n",
    "\n",
    "`iptest`\n",
    "\n",
    "You will see a bunch of stuff float by in the terminal window and then you should see things complete with a nice success message.\n",
    "\n",
    "You will then want to launch your Jupyter notebook so you can start programming.\n",
    "\n",
    "Make sure that you are in the folder where you want your files to save.  You may need to use the \"cd\" command to change directories in the terminal:\n",
    "\n",
    "`cd ~/Classes/MBA656A`\n",
    "\n",
    "for example.  (The \"~\" is a shortcut for your home directory.) You can use TAB completion to figure out what directory you are in.  If you need to go back a directory you can do:\n",
    "\n",
    "`cd ..`\n"
   ]
  },
  {
   "cell_type": "markdown",
   "metadata": {},
   "source": [
    "If you are not yet comfortable with the command line here is a video tutorial for the basics for Mac users:"
   ]
  },
  {
   "cell_type": "code",
   "execution_count": 32,
   "metadata": {
    "raw_mimetype": "text/x-python",
    "scrolled": true,
    "tags": [
     "hide_input"
    ]
   },
   "outputs": [
    {
     "data": {
      "text/html": [
       "\n",
       "        <iframe\n",
       "            width=\"560\"\n",
       "            height=\"315\"\n",
       "            src=\"https://www.youtube.com/embed/5XgBd6rjuDQ\"\n",
       "            frameborder=\"0\"\n",
       "            allowfullscreen\n",
       "        ></iframe>\n",
       "        "
      ],
      "text/plain": [
       "<IPython.lib.display.IFrame at 0x124f0df70>"
      ]
     },
     "execution_count": 32,
     "metadata": {},
     "output_type": "execute_result"
    }
   ],
   "source": [
    "from IPython.display import IFrame\n",
    "\n",
    "IFrame('https://www.youtube.com/embed/5XgBd6rjuDQ', width=\"560\", height=\"315\")"
   ]
  },
  {
   "cell_type": "markdown",
   "metadata": {},
   "source": [
    "Windows is slightly different so here is the tutorial for Windows users:"
   ]
  },
  {
   "cell_type": "code",
   "execution_count": 25,
   "metadata": {},
   "outputs": [
    {
     "data": {
      "text/html": [
       "\n",
       "        <iframe\n",
       "            width=\"560\"\n",
       "            height=\"315\"\n",
       "            src=\"https://www.youtube.com/embed/7ABkcHLdG_A\"\n",
       "            frameborder=\"0\"\n",
       "            allowfullscreen\n",
       "        ></iframe>\n",
       "        "
      ],
      "text/plain": [
       "<IPython.lib.display.IFrame at 0x124fd86a0>"
      ]
     },
     "execution_count": 25,
     "metadata": {},
     "output_type": "execute_result"
    }
   ],
   "source": [
    "IFrame('https://www.youtube.com/embed/7ABkcHLdG_A', width=\"560\", height=\"315\")"
   ]
  },
  {
   "cell_type": "markdown",
   "metadata": {},
   "source": [
    "Now that you are in the proper directory you will want to start up a Jupyter Notebook so that you can start writing your data science program.\n",
    "\n",
    "Type the following command on the command line:\n",
    "\n",
    "`jupyter notebook`\n",
    "\n",
    "This will open up a page in your default web browser that looks similar to this:\n",
    "\n",
    "![Jupyter Notebook Startup View](https://drive.google.com/uc?id=19FnBEm2I5nINAWsl7ZO-8sTLo6qSxB6c)\n",
    "\n",
    "You can now create an file called a notebook file.  This is a webapge that you can type in Python code and have it run directly in the web browser.  This works like a halfway point between typing programs into Visual Studio Code and typing them directly into to REPL.  Many data scientists find Jupyter Notebooks to be the sweet spot for the way they code.  They can combine the code they write with the output in a single file and then export that file to a PDF file or a webpage to share with others.  It also is easier to run small bits of code or create simple functions without having all the overhead of a full python program.  \n",
    "\n",
    "This is different from what you would want to do if you were writing something like a Python Game or a web app.  Those programs are generally more complicated with a lot of files working together to create the output.  That is why when we were learning general Python we started with an Visual Studio Code, but for our Data Science section it is worth while to work with a tool that is more specialised for Data Scientists.\n",
    "\n"
   ]
  },
  {
   "cell_type": "code",
   "execution_count": 26,
   "metadata": {},
   "outputs": [
    {
     "name": "stdout",
     "output_type": "stream",
     "text": [
      "Hi! This is a cell. Press the ▶ button above to run it\n"
     ]
    }
   ],
   "source": [
    "import pandas as pd\n",
    "\n",
    "print(\"Hi! This is a cell. Press the ▶ button above to run it\")"
   ]
  },
  {
   "cell_type": "code",
   "execution_count": 27,
   "metadata": {},
   "outputs": [],
   "source": [
    "def print_10_nums():\n",
    "    for i in range(10):\n",
    "        print(i, end=',')\n"
   ]
  },
  {
   "cell_type": "code",
   "execution_count": 28,
   "metadata": {},
   "outputs": [
    {
     "name": "stdout",
     "output_type": "stream",
     "text": [
      "0,1,2,3,4,5,6,7,8,9,"
     ]
    }
   ],
   "source": [
    "print_10_nums()"
   ]
  },
  {
   "cell_type": "code",
   "execution_count": 29,
   "metadata": {},
   "outputs": [
    {
     "name": "stdout",
     "output_type": "stream",
     "text": [
      "CPU times: user 6.08 ms, sys: 1.17 ms, total: 7.25 ms\n",
      "Wall time: 7.27 ms\n"
     ]
    },
    {
     "data": {
      "text/plain": [
       "4999950000"
      ]
     },
     "execution_count": 29,
     "metadata": {},
     "output_type": "execute_result"
    }
   ],
   "source": [
    "%time sum([x for x in range(100000)])"
   ]
  },
  {
   "cell_type": "code",
   "execution_count": 30,
   "metadata": {},
   "outputs": [
    {
     "name": "stdout",
     "output_type": "stream",
     "text": [
      "CPU times: user 6.62 ms, sys: 503 µs, total: 7.13 ms\n",
      "Wall time: 6.68 ms\n"
     ]
    },
    {
     "data": {
      "text/plain": [
       "4999950000"
      ]
     },
     "execution_count": 30,
     "metadata": {},
     "output_type": "execute_result"
    }
   ],
   "source": [
    "%time sum(x for x in range(100000))"
   ]
  },
  {
   "cell_type": "code",
   "execution_count": 31,
   "metadata": {},
   "outputs": [],
   "source": [
    "%quickref"
   ]
  },
  {
   "cell_type": "code",
   "execution_count": 9,
   "metadata": {},
   "outputs": [
    {
     "name": "stdout",
     "output_type": "stream",
     "text": [
      "whoa, perl!"
     ]
    }
   ],
   "source": [
    "%%perl\n",
    "\n",
    "$_ = \"whoa, python!\";\n",
    "s/python/perl/;\n",
    "print"
   ]
  },
  {
   "cell_type": "code",
   "execution_count": null,
   "metadata": {},
   "outputs": [],
   "source": []
  }
 ],
 "metadata": {
  "celltoolbar": "Raw Cell Format",
  "kernelspec": {
   "display_name": "Python 3",
   "language": "python",
   "name": "python3"
  },
  "language_info": {
   "codemirror_mode": {
    "name": "ipython",
    "version": 3
   },
   "file_extension": ".py",
   "mimetype": "text/x-python",
   "name": "python",
   "nbconvert_exporter": "python",
   "pygments_lexer": "ipython3",
   "version": "3.8.5"
  }
 },
 "nbformat": 4,
 "nbformat_minor": 4
}
