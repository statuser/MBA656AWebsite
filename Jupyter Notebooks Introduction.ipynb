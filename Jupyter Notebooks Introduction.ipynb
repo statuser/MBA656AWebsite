{
 "cells": [
  {
   "cell_type": "markdown",
   "metadata": {},
   "source": [
    "# Jupyter Notebook Introduction"
   ]
  },
  {
   "cell_type": "markdown",
   "metadata": {},
   "source": [
    "You will want to first install Jupyter Notebooks so that you can follow along. You can start doing this by opening a terminal on Mac or command prompt on Windows and installing ipython using pip.\n",
    "\n",
    "`pip install \"ipython[all]\"`\n",
    "\n",
    "Wait for a while for it to complete and then you can test to make sure everything is installed and working correctly.\n",
    "\n",
    "`iptest`\n",
    "\n",
    "You will see a bunch of stuff float by in the terminal window and then you should see things complete with a nice success message.\n",
    "\n",
    "You will then want to launch your Jupyter notebook so you can start programming.\n",
    "\n",
    "Make sure that you are in the folder where you want your files to save.  You may need to use the \"cd\" command to change directories in the terminal:\n",
    "\n",
    "`cd ~/Classes/MBA656A`\n",
    "\n",
    "for example.  (The \"~\" is a shortcut for your home directory.) You can use TAB completion to figure out what directory you are in.  If you need to go back a directory you can do:\n",
    "\n",
    "`cd ..`\n"
   ]
  },
  {
   "cell_type": "markdown",
   "metadata": {
    "hideCode": false
   },
   "source": [
    "If you are not yet comfortable with the command line here is a video tutorial for the basics for Mac users:"
   ]
  },
  {
   "cell_type": "code",
   "execution_count": 1,
   "metadata": {
    "hideCode": true,
    "hidePrompt": true
   },
   "outputs": [
    {
     "data": {
      "text/html": [
       "\n",
       "        <iframe\n",
       "            width=\"560\"\n",
       "            height=\"315\"\n",
       "            src=\"https://www.youtube.com/embed/5XgBd6rjuDQ\"\n",
       "            frameborder=\"0\"\n",
       "            allowfullscreen\n",
       "        ></iframe>\n",
       "        "
      ],
      "text/plain": [
       "<IPython.lib.display.IFrame at 0x106285880>"
      ]
     },
     "execution_count": 1,
     "metadata": {},
     "output_type": "execute_result"
    }
   ],
   "source": [
    "from IPython.display import IFrame\n",
    "\n",
    "IFrame('https://www.youtube.com/embed/5XgBd6rjuDQ', width=\"560\", height=\"315\")"
   ]
  },
  {
   "cell_type": "markdown",
   "metadata": {},
   "source": [
    "Windows is slightly different so here is the tutorial for Windows users:"
   ]
  },
  {
   "cell_type": "code",
   "execution_count": 25,
   "metadata": {
    "hideCode": true,
    "hidePrompt": true,
    "tags": [
     "hide_input"
    ]
   },
   "outputs": [
    {
     "data": {
      "text/html": [
       "\n",
       "        <iframe\n",
       "            width=\"560\"\n",
       "            height=\"315\"\n",
       "            src=\"https://www.youtube.com/embed/7ABkcHLdG_A\"\n",
       "            frameborder=\"0\"\n",
       "            allowfullscreen\n",
       "        ></iframe>\n",
       "        "
      ],
      "text/plain": [
       "<IPython.lib.display.IFrame at 0x124fd86a0>"
      ]
     },
     "execution_count": 25,
     "metadata": {},
     "output_type": "execute_result"
    }
   ],
   "source": [
    "IFrame('https://www.youtube.com/embed/7ABkcHLdG_A', width=\"560\", height=\"315\")"
   ]
  },
  {
   "cell_type": "markdown",
   "metadata": {},
   "source": [
    "Now that you are in the proper directory you will want to start up a Jupyter Notebook so that you can start writing your data science program.\n",
    "\n",
    "Type the following command on the command line:\n",
    "\n",
    "`jupyter notebook`\n",
    "\n",
    "This will open up a page in your default web browser that looks similar to this:\n",
    "\n",
    "![Jupyter Notebook Startup View](https://drive.google.com/uc?id=19FnBEm2I5nINAWsl7ZO-8sTLo6qSxB6c)\n",
    "\n",
    "You can now create an file called a notebook file.  This is a webapge that you can type in Python code and have it run directly in the web browser.  This works like a halfway point between typing programs into Visual Studio Code and typing them directly into to REPL.  Many data scientists find Jupyter Notebooks to be the sweet spot for the way they code.  They can combine the code they write with the output in a single file and then export that file to a PDF file or a webpage to share with others.  It also is easier to run small bits of code or create simple functions without having all the overhead of a full python program.  \n",
    "\n",
    "This is different from what you would want to do if you were writing something like a Python Game or a web app.  Those programs are generally more complicated with a lot of files working together to create the output.  That is why when we were learning general Python we started with an Visual Studio Code, but for our Data Science section it is worth while to work with a tool that is more specialised for Data Scientists.\n",
    "\n"
   ]
  },
  {
   "cell_type": "markdown",
   "metadata": {},
   "source": [
    "## Using Jupyter Notebooks for writing and documenting code"
   ]
  },
  {
   "cell_type": "markdown",
   "metadata": {},
   "source": [
    "There are a few Jupyter concepts that you will want to know and understand.\n",
    "\n",
    "The first is that each box of text is it's own little environment.  There are multiple different environment types. Environments are different blocks which allow you to insert different types of content.  An environment can have three different states.\n",
    "\n",
    "- Editing Mode : In editing mode you are just entering text or Python code into the environment.  You can get into Editing mode by pressing `Enter` when the environment is active\n",
    "\n",
    "- Command Mode : Command Mode allows you to make changes to the environment. You can change the type of environment, access help, or issue commands.  You enter command mode by pressing `esc` when you are editing an active environment.\n",
    "\n",
    "- Rendered Mode : This is the mode that shows the final results of running/processing the text or Python commands that you put into the environment.  When an environment is active you render the content using the `SHIFT+Enter` or `CMD+Enter` (Mac) `CTRL+Enter` (Windows) keyboard shortcut.  You can also render an environment using the ▶ button on the menu bar.\n",
    "\n",
    "Jupyter always have a new environment at the bottom of the editing window, but you may want to insert an environment elsewhere in your document.  You can do this by entering command mode in an active environment and then pressing `a` to insert an environment above or `b` to insert an environment below the current active environment.\n",
    "\n",
    "If you are currently in editing mode and want to move to the next environment without processing anything you can press the down arrow key.  This will move you to the next line down even if it is in a different environment."
   ]
  },
  {
   "cell_type": "markdown",
   "metadata": {},
   "source": [
    "There are two primary types of environments that you will see and use.\n",
    "\n",
    "The first and main one is a `code` type.  This is the default type when you create a new environment.  You can type in Python code just as you would in a regular program.  When you press `SHIFT+ENTER` the code in that block will run and then the program will pause.   All the variables that you have defined and the libraries that you have imported will still be available for you to use later in your notebook."
   ]
  },
  {
   "cell_type": "code",
   "execution_count": 3,
   "metadata": {},
   "outputs": [],
   "source": [
    "import matplotlib.pyplot as plt\n",
    "import numpy as np\n",
    "\n",
    "data = np.random.random((1,100))\n",
    "time = np.array(range(100))"
   ]
  },
  {
   "cell_type": "code",
   "execution_count": 4,
   "metadata": {},
   "outputs": [
    {
     "name": "stdout",
     "output_type": "stream",
     "text": [
      "[[0.06554231 0.0637248  0.81567087 0.22724373 0.24286402 0.50947806\n",
      "  0.01051664 0.86311516 0.61248211 0.37306039 0.17235591 0.47557966\n",
      "  0.98383677 0.71659543 0.96762733 0.59103578 0.22318591 0.86965993\n",
      "  0.50104823 0.75655465 0.38622559 0.76107441 0.24319498 0.19587804\n",
      "  0.84829398 0.8074998  0.59175384 0.26600431 0.69702743 0.41998202\n",
      "  0.32411528 0.87373855 0.24163004 0.2859862  0.55061368 0.82613022\n",
      "  0.07256753 0.46143069 0.53499747 0.54053313 0.99579105 0.59489691\n",
      "  0.99906439 0.29031788 0.62537285 0.57363957 0.9418495  0.95949857\n",
      "  0.19525511 0.60779532 0.1045398  0.88993579 0.8845346  0.80113678\n",
      "  0.3905601  0.6783053  0.46742984 0.69271506 0.55707597 0.45973354\n",
      "  0.42259814 0.43496654 0.19939506 0.87255427 0.26418544 0.04019302\n",
      "  0.63890095 0.39546783 0.72583418 0.26544173 0.54026897 0.24300096\n",
      "  0.6620312  0.95907249 0.18970693 0.82283467 0.78815455 0.12333368\n",
      "  0.31333543 0.96043061 0.99114963 0.20147766 0.54333967 0.57482045\n",
      "  0.33025608 0.14153822 0.71410251 0.90680179 0.44185418 0.71816991\n",
      "  0.16046041 0.17519372 0.18560944 0.49221406 0.42190979 0.75163774\n",
      "  0.87205238 0.34940005 0.91979697 0.85788088]]\n",
      "[ 0  1  2  3  4  5  6  7  8  9 10 11 12 13 14 15 16 17 18 19 20 21 22 23\n",
      " 24 25 26 27 28 29 30 31 32 33 34 35 36 37 38 39 40 41 42 43 44 45 46 47\n",
      " 48 49 50 51 52 53 54 55 56 57 58 59 60 61 62 63 64 65 66 67 68 69 70 71\n",
      " 72 73 74 75 76 77 78 79 80 81 82 83 84 85 86 87 88 89 90 91 92 93 94 95\n",
      " 96 97 98 99]\n"
     ]
    }
   ],
   "source": [
    "print(data)\n",
    "print(time)"
   ]
  },
  {
   "cell_type": "code",
   "execution_count": 5,
   "metadata": {},
   "outputs": [
    {
     "data": {
      "image/png": "[encoded data removed]",
      "text/plain": [
       "<Figure size 432x288 with 1 Axes>"
      ]
     },
     "metadata": {
      "needs_background": "light"
     },
     "output_type": "display_data"
    }
   ],
   "source": [
    "plt.scatter(data, time)\n",
    "plt.title(\"Random Scatter\")\n",
    "plt.show()"
   ]
  },
  {
   "cell_type": "markdown",
   "metadata": {},
   "source": [
    "The second main type of environment is a **Markdown** environment.  This is where you can put in formmated text that will display.  You can get a **Markdown** environment in a couple of ways.  The first way is to create a new code block and then select _Markdown_ from the dropdown menu just above the editing window.  \n",
    "\n",
    "The second way is to create a new environment and without the environment being in editing mode, press the `m` key to switch the type of environment to **Markdown**.  You then would press the `ENTER` key to switch back to editing mode."
   ]
  },
  {
   "cell_type": "markdown",
   "metadata": {},
   "source": [
    "This is a example of being able to write text into the program.  This text will appear as a comment.  You could potentially do something similar with a python program by using comments, but with many data science reports the comments can get very long.  In many cases the text is more important than the code itself.\n",
    "\n",
    "You may also want to add formating to the text.  This is easy to do using a **Jupyter** Notebook.  For example if you want to underline something you would just do: _this is underlined_ and if you want to emphasis something you could do:\n",
    "\n",
    "*Emphasize this*\n",
    "\n",
    "It is also possible to put in lists of items:\n",
    "\n",
    "1. Item 1\n",
    "2. Item 2\n",
    "...\n",
    "\n",
    "or:\n",
    "\n",
    "- Bananas\n",
    "- Apples\n",
    "- Strawberries\n",
    "...\n",
    "\n",
    "If you want to put in a header:\n",
    "# Header 1\n",
    "## Header 2\n",
    "### Header 3\n",
    "\n",
    "The commands for this are based on Markdown.  You can review all the tricks at: [Markdown Cheatsheet](https://www.markdownguide.org/cheat-sheet/)"
   ]
  }
 ],
 "metadata": {
  "celltoolbar": "Hide code",
  "kernelspec": {
   "display_name": "Python 3",
   "language": "python",
   "name": "python3"
  },
  "language_info": {
   "codemirror_mode": {
    "name": "ipython",
    "version": 3
   },
   "file_extension": ".py",
   "mimetype": "text/x-python",
   "name": "python",
   "nbconvert_exporter": "python",
   "pygments_lexer": "ipython3",
   "version": "3.8.5"
  }
 },
 "nbformat": 4,
 "nbformat_minor": 4
}
