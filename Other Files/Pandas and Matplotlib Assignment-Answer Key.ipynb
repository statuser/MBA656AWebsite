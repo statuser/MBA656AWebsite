{
 "cells": [
  {
   "cell_type": "code",
   "execution_count": 2,
   "metadata": {},
   "outputs": [],
   "source": [
    "# Standard Import of Libraries\n",
    "\n",
    "import pandas as pd\n",
    "import matplotlib.pyplot as plt\n",
    "\n",
    "# Make the graphs a bit prettier, and bigger\n",
    "plt.style.use('ggplot')\n",
    "plt.rcParams['figure.figsize'] = (15, 5)\n"
   ]
  },
  {
   "cell_type": "markdown",
   "metadata": {},
   "source": [
    "The data set we are going to be working with comes from an article prepared by fivethirtyeight.com about college fight songs.  \n",
    "\n",
    "The documentation and data description has been coppied from their github repository located at:\n",
    "(Fight Song Data) https://github.com/fivethirtyeight/data/tree/master/fight-songs"
   ]
  },
  {
   "cell_type": "markdown",
   "metadata": {},
   "source": [
    "# fight-songs\n",
    "\n",
    "This folder contains data behind the story [Our Guide To The Exuberant Nonsense Of College Fight Songs](https://projects.fivethirtyeight.com/college-fight-song-lyrics/).\n",
    "\n",
    "\n",
    "`fight-songs.csv` contains data about fight songs from all schools in the Power Five conferences — the ACC, Big Ten, Big 12, Pac-12 and SEC — plus Notre Dame. Some schools have more than one fight song, and some of the songs sanctioned as “official” by their schools aren’t the ones that fans sing out. We chose the songs that seemed best-known and best-loved. We also limited our analysis to the lyrics sung most regularly and also published by the school, so some verses were not included in the analysis. The tempo and length information come from the version of the song we chose from those available on Spotify.\n",
    " \n",
    "Column definitions:\n",
    "\n",
    "Column   | Description\n",
    "---------|---------------\n",
    "`school`| School name\n",
    "`conference`| School college football conference\n",
    "`song_name`| Song title\n",
    "`writers`| Song author\n",
    "`year`| Year the song written. Some values are `Unknown`\n",
    "`student_writer`| Was the author a student? Some values are `Unknown`\n",
    "`official_song`| Is the song the official fight song according to the university?\n",
    "`contest`| Was the song chosen as the result of a contest?\n",
    "`bpm`| Beats per minute\n",
    "`sec_duration`| Duration of song in seconds\n",
    "`fight`| Does the song say “fight”?\n",
    "`number_fights`| Number of times the song says “fight”?\n",
    "`victory`| Does the song say “victory”?\n",
    "`win_won`| Does the song say “win” or “won”? \n",
    "`victory_win_won`| Does the song say “victory,” “win” or “won”? \n",
    "`rah`| Does the song say “rah”?\n",
    "`nonsense`| Does the song use nonsense syllables (e.g. \"Whoo-Rah\" or \"Hooperay\")\n",
    "`colors`| Does the song mention the school colors? \n",
    "`men`| Does the song refer to a group of men (e.g. men, boys, sons, etc.)?\n",
    "`opponents`| Does the song mention any opponents?\n",
    "`spelling`| Does the song spell anything?\n",
    "`trope_count`| Total number of tropes (`fight`, `victory`, `win_won`, `rah`, `nonsense`,`colors`, `men`, `opponents`, and `spelling`).\n",
    "`spotify_id`| Spotify id for the song"
   ]
  },
  {
   "cell_type": "markdown",
   "metadata": {},
   "source": [
    "The file can be downloaded from https://raw.githubusercontent.com/fivethirtyeight/data/master/fight-songs/fight-songs.csv"
   ]
  },
  {
   "cell_type": "markdown",
   "metadata": {},
   "source": [
    "## Problem 1\n",
    "\n",
    "Import the .csv file into this notebook.  Make sure that the data comes in as expected by printing the first five rows of the file."
   ]
  },
  {
   "cell_type": "code",
   "execution_count": 18,
   "metadata": {},
   "outputs": [
    {
     "data": {
      "text/plain": [
       "conference         object\n",
       "song_name          object\n",
       "writers            object\n",
       "year               object\n",
       "student_writer     object\n",
       "official_song      object\n",
       "contest            object\n",
       "bpm                 int64\n",
       "sec_duration        int64\n",
       "fight              object\n",
       "number_fights       int64\n",
       "victory            object\n",
       "win_won            object\n",
       "victory_win_won    object\n",
       "rah                object\n",
       "nonsense           object\n",
       "colors             object\n",
       "men                object\n",
       "opponents          object\n",
       "spelling           object\n",
       "trope_count         int64\n",
       "spotify_id         object\n",
       "dtype: object"
      ]
     },
     "execution_count": 18,
     "metadata": {},
     "output_type": "execute_result"
    }
   ],
   "source": [
    "# Put import code here\n",
    "fight_song_data = pd.read_csv(\"https://raw.githubusercontent.com/fivethirtyeight/data/master/fight-songs/fight-songs.csv\", index_col=\"school\")\n",
    "# fight_song_data[:5]\n",
    "# fight_song_data.loc[:'Kansas State', :]\n",
    "# fight_song_data.iloc[:5,]\n",
    "# fight_song_data.head()\n",
    "fight_song_data.dtypes"
   ]
  },
  {
   "cell_type": "markdown",
   "metadata": {},
   "source": [
    "## Problem 2 \n",
    "\n",
    "Create a scatter plot of the fight songs comparing beats per minute and duration. Find the average beats per minute and the the average duration and place horizontal lines on tthe chart representing these values.\n",
    "\n",
    "You are basically creating the first graph presented at [Our Guide To The Exuberant Nonsense Of College Fight Songs](https://projects.fivethirtyeight.com/college-fight-song-lyrics/) from five thirty eight.  Since we are focusing on exploratory data for this class you do not need to include the interactivity that the article includes.\n",
    "\n"
   ]
  },
  {
   "cell_type": "code",
   "execution_count": 5,
   "metadata": {},
   "outputs": [
    {
     "data": {
      "text/plain": [
       "<matplotlib.lines.Line2D at 0x10ec55f10>"
      ]
     },
     "execution_count": 5,
     "metadata": {},
     "output_type": "execute_result"
    },
    {
     "data": {
      "image/png": "[encoded data removed]",
      "text/plain": [
       "<Figure size 1080x360 with 1 Axes>"
      ]
     },
     "metadata": {},
     "output_type": "display_data"
    }
   ],
   "source": [
    "bpm_and_duration = fight_song_data[['bpm', 'sec_duration']]\n",
    "bpm_and_duration_means = bpm_and_duration.mean()\n",
    "bpm_and_duration.plot.scatter(x='sec_duration', y='bpm')\n",
    "plt.axvline(bpm_and_duration_means['sec_duration'])\n",
    "plt.axhline(bpm_and_duration_means['bpm'])\n"
   ]
  },
  {
   "cell_type": "markdown",
   "metadata": {},
   "source": [
    "## Problem 3\n",
    "\n",
    "Recreate the scatter plot only color each conference separately.\n"
   ]
  },
  {
   "cell_type": "code",
   "execution_count": 5,
   "metadata": {},
   "outputs": [],
   "source": [
    "conferences = fight_song_data.groupby('conference')\n"
   ]
  },
  {
   "cell_type": "code",
   "execution_count": 6,
   "metadata": {},
   "outputs": [
    {
     "data": {
      "image/png": "[encoded data removed]",
      "text/plain": [
       "<Figure size 1080x360 with 1 Axes>"
      ]
     },
     "metadata": {},
     "output_type": "display_data"
    }
   ],
   "source": [
    "\n",
    "\n",
    "# Plot\n",
    "for name, conference in conferences:\n",
    "    plt.plot(conference['sec_duration'], conference['bpm'], marker='o', linestyle='', ms=12, label=name)\n",
    "plt.legend()\n",
    "\n",
    "plt.show()\n"
   ]
  },
  {
   "cell_type": "markdown",
   "metadata": {},
   "source": [
    "Are there any patterns that standout?  What we are really looking for is if there are any regional differences between preferences for the length of the song and or the duration of the song.  Since most of these songs were written before nationally televised games regional differences might stand out."
   ]
  },
  {
   "cell_type": "markdown",
   "metadata": {},
   "source": [
    ">Nothing really standas out for the conferences.  It would be interesting to look at the data in a couple of different ways.  The is a big difference in the beats per minute, but conference doesn't seem to explain it."
   ]
  },
  {
   "cell_type": "markdown",
   "metadata": {},
   "source": [
    "## Problem 4\n",
    "\n",
    "Speaking of when the songs were written it would be interesting to figure out when the heyday of modern fight songs is.  One way to do this is to create a histogram of the year that the songs were written.  We can then look at the distribution of the dates and determine whether they follow a clear distribution.  **Create a histogram of the date that the songs were written.**"
   ]
  },
  {
   "cell_type": "code",
   "execution_count": 12,
   "metadata": {},
   "outputs": [
    {
     "data": {
      "text/plain": [
       "school\n",
       "Notre Dame       1908.0\n",
       "Baylor           1947.0\n",
       "Iowa State       1930.0\n",
       "Kansas           1912.0\n",
       "Kansas State     1927.0\n",
       "                  ...  \n",
       "Pitt             1911.0\n",
       "Syracuse         1914.0\n",
       "Virginia         1893.0\n",
       "Virginia Tech    1919.0\n",
       "Wake Forest      1908.0\n",
       "Name: year, Length: 65, dtype: float64"
      ]
     },
     "execution_count": 12,
     "metadata": {},
     "output_type": "execute_result"
    }
   ],
   "source": [
    "pd.to_numeric(fight_song_data['year'], errors='coerce')"
   ]
  },
  {
   "cell_type": "code",
   "execution_count": 8,
   "metadata": {},
   "outputs": [
    {
     "data": {
      "text/plain": [
       "<AxesSubplot:ylabel='Frequency'>"
      ]
     },
     "execution_count": 8,
     "metadata": {},
     "output_type": "execute_result"
    },
    {
     "data": {
      "image/png": "[encoded data removed]",
      "text/plain": [
       "<Figure size 1080x360 with 1 Axes>"
      ]
     },
     "metadata": {},
     "output_type": "display_data"
    }
   ],
   "source": [
    "fight_song_data['year'] = pd.to_numeric(fight_song_data.year, errors='coerce', downcast='integer')\n",
    "fight_song_data['year'].plot.hist()"
   ]
  },
  {
   "cell_type": "markdown",
   "metadata": {},
   "source": [
    "## Problem 5\n",
    "The biggest problem with the data set is that BYU is missing since we are not part of a power five conference.\n",
    "\n",
    "**Append the BYU data to the dataset**\n",
    "\n",
    "You can find the official information about the song from [COUGAR FIGHT SONG](https://byucougars.com/story/athletics/79982/cougar-fight-song)\n",
    "\n",
    "You can find the duration and BPM at [BPM Finder](https://songbpm.com/searches/the-cougar-song-brigham-young-university)\n",
    "\n",
    "**Repeat the scatter plot analysis only highlighting BYU this time.**"
   ]
  },
  {
   "cell_type": "code",
   "execution_count": 13,
   "metadata": {},
   "outputs": [
    {
     "data": {
      "text/plain": [
       "Index(['conference', 'song_name', 'writers', 'year', 'student_writer',\n",
       "       'official_song', 'contest', 'bpm', 'sec_duration', 'fight',\n",
       "       'number_fights', 'victory', 'win_won', 'victory_win_won', 'rah',\n",
       "       'nonsense', 'colors', 'men', 'opponents', 'spelling', 'trope_count',\n",
       "       'spotify_id'],\n",
       "      dtype='object')"
      ]
     },
     "execution_count": 13,
     "metadata": {},
     "output_type": "execute_result"
    }
   ],
   "source": [
    "fight_song_data.columns"
   ]
  },
  {
   "cell_type": "code",
   "execution_count": null,
   "metadata": {},
   "outputs": [],
   "source": [
    "byu_data = {'conference' : 'Independent',\n",
    "            'song_name' : 'Cougar Fight Song',\n",
    "            'writers' : 'Clyde D. Sandgren', \n",
    "            'year' : 1946,\n",
    "            'student_writer' : 'Yes',\n",
    "            'official_song' : 'Yes',\n",
    "            'contest' : 'No',\n",
    "            'bpm' : 145,\n",
    "            'sec_duration' : 95,\n",
    "            'fight' : 'Yes',\n",
    "            'number_fights' : 1,\n",
    "            'victory' : 'Yes',\n",
    "            'win_won' : 'No',\n",
    "            'victory_win_won' : 'Yes',\n",
    "            'rah' : 'Yes',\n",
    "            'nonsense' : 'No',\n",
    "            'colors' : 'Yes',\n",
    "            'men' : 'No*',\n",
    "            'opponents' : 'Yes',\n",
    "            'spelling' : 'Yes',\n",
    "            'trope_count' : 7,\n",
    "            'spotify_id' : '71FeZngR7oqU8Pnd3XSBdp'}"
   ]
  },
  {
   "cell_type": "code",
   "execution_count": 9,
   "metadata": {},
   "outputs": [
    {
     "data": {
      "text/plain": [
       "conference                    Independent\n",
       "song_name               Cougar Fight Song\n",
       "writers                 Clyde D. Sandgren\n",
       "year                                 1946\n",
       "student_writer                        Yes\n",
       "official_song                         Yes\n",
       "contest                                No\n",
       "bpm                                   145\n",
       "sec_duration                           95\n",
       "fight                                 Yes\n",
       "number_fights                           1\n",
       "victory                               Yes\n",
       "win_won                                No\n",
       "victory_win_won                       Yes\n",
       "rah                                   Yes\n",
       "nonsense                               No\n",
       "colors                                Yes\n",
       "men                                   No*\n",
       "opponents                             Yes\n",
       "spelling                              Yes\n",
       "trope_count                             7\n",
       "spotify_id         71FeZngR7oqU8Pnd3XSBdp\n",
       "Name: Brigham Young University, dtype: object"
      ]
     },
     "execution_count": 9,
     "metadata": {},
     "output_type": "execute_result"
    }
   ],
   "source": [
    " # Trope count could be 8 prior to change in 90's\n",
    "byu_data = pd.Series(byu_data.values(), index=byu_data.keys(), name='Brigham Young University')\n",
    "byu_data"
   ]
  },
  {
   "cell_type": "code",
   "execution_count": 10,
   "metadata": {},
   "outputs": [
    {
     "data": {
      "text/html": [
       "<div>\n",
       "<style scoped>\n",
       "    .dataframe tbody tr th:only-of-type {\n",
       "        vertical-align: middle;\n",
       "    }\n",
       "\n",
       "    .dataframe tbody tr th {\n",
       "        vertical-align: top;\n",
       "    }\n",
       "\n",
       "    .dataframe thead th {\n",
       "        text-align: right;\n",
       "    }\n",
       "</style>\n",
       "<table border=\"1\" class=\"dataframe\">\n",
       "  <thead>\n",
       "    <tr style=\"text-align: right;\">\n",
       "      <th></th>\n",
       "      <th>conference</th>\n",
       "      <th>song_name</th>\n",
       "      <th>writers</th>\n",
       "      <th>year</th>\n",
       "      <th>student_writer</th>\n",
       "      <th>official_song</th>\n",
       "      <th>contest</th>\n",
       "      <th>bpm</th>\n",
       "      <th>sec_duration</th>\n",
       "      <th>fight</th>\n",
       "      <th>...</th>\n",
       "      <th>win_won</th>\n",
       "      <th>victory_win_won</th>\n",
       "      <th>rah</th>\n",
       "      <th>nonsense</th>\n",
       "      <th>colors</th>\n",
       "      <th>men</th>\n",
       "      <th>opponents</th>\n",
       "      <th>spelling</th>\n",
       "      <th>trope_count</th>\n",
       "      <th>spotify_id</th>\n",
       "    </tr>\n",
       "    <tr>\n",
       "      <th>school</th>\n",
       "      <th></th>\n",
       "      <th></th>\n",
       "      <th></th>\n",
       "      <th></th>\n",
       "      <th></th>\n",
       "      <th></th>\n",
       "      <th></th>\n",
       "      <th></th>\n",
       "      <th></th>\n",
       "      <th></th>\n",
       "      <th></th>\n",
       "      <th></th>\n",
       "      <th></th>\n",
       "      <th></th>\n",
       "      <th></th>\n",
       "      <th></th>\n",
       "      <th></th>\n",
       "      <th></th>\n",
       "      <th></th>\n",
       "      <th></th>\n",
       "      <th></th>\n",
       "    </tr>\n",
       "  </thead>\n",
       "  <tbody>\n",
       "    <tr>\n",
       "      <th>Notre Dame</th>\n",
       "      <td>Independent</td>\n",
       "      <td>Victory March</td>\n",
       "      <td>Michael J. Shea and John F. Shea</td>\n",
       "      <td>1908.0</td>\n",
       "      <td>No</td>\n",
       "      <td>Yes</td>\n",
       "      <td>No</td>\n",
       "      <td>152</td>\n",
       "      <td>64</td>\n",
       "      <td>Yes</td>\n",
       "      <td>...</td>\n",
       "      <td>Yes</td>\n",
       "      <td>Yes</td>\n",
       "      <td>Yes</td>\n",
       "      <td>No</td>\n",
       "      <td>Yes</td>\n",
       "      <td>Yes</td>\n",
       "      <td>No</td>\n",
       "      <td>No</td>\n",
       "      <td>6</td>\n",
       "      <td>15a3ShKX3XWKzq0lSS48yr</td>\n",
       "    </tr>\n",
       "    <tr>\n",
       "      <th>Baylor</th>\n",
       "      <td>Big 12</td>\n",
       "      <td>Old Fight</td>\n",
       "      <td>Dick Baker and Frank Boggs</td>\n",
       "      <td>1947.0</td>\n",
       "      <td>Yes</td>\n",
       "      <td>Yes</td>\n",
       "      <td>No</td>\n",
       "      <td>76</td>\n",
       "      <td>99</td>\n",
       "      <td>Yes</td>\n",
       "      <td>...</td>\n",
       "      <td>Yes</td>\n",
       "      <td>Yes</td>\n",
       "      <td>No</td>\n",
       "      <td>No</td>\n",
       "      <td>Yes</td>\n",
       "      <td>No</td>\n",
       "      <td>No</td>\n",
       "      <td>Yes</td>\n",
       "      <td>5</td>\n",
       "      <td>2ZsaI0Cu4nz8DHfBkPt0Dl</td>\n",
       "    </tr>\n",
       "    <tr>\n",
       "      <th>Iowa State</th>\n",
       "      <td>Big 12</td>\n",
       "      <td>Iowa State Fights</td>\n",
       "      <td>Jack Barker, Manly Rice, Paul Gnam, Rosalind K...</td>\n",
       "      <td>1930.0</td>\n",
       "      <td>Yes</td>\n",
       "      <td>Yes</td>\n",
       "      <td>No</td>\n",
       "      <td>155</td>\n",
       "      <td>55</td>\n",
       "      <td>Yes</td>\n",
       "      <td>...</td>\n",
       "      <td>No</td>\n",
       "      <td>No</td>\n",
       "      <td>Yes</td>\n",
       "      <td>No</td>\n",
       "      <td>No</td>\n",
       "      <td>Yes</td>\n",
       "      <td>No</td>\n",
       "      <td>Yes</td>\n",
       "      <td>4</td>\n",
       "      <td>3yyfoOXZQCtR6pfRJqu9pl</td>\n",
       "    </tr>\n",
       "    <tr>\n",
       "      <th>Kansas</th>\n",
       "      <td>Big 12</td>\n",
       "      <td>I'm a Jayhawk</td>\n",
       "      <td>George \"Dumpy\" Bowles</td>\n",
       "      <td>1912.0</td>\n",
       "      <td>Yes</td>\n",
       "      <td>Yes</td>\n",
       "      <td>No</td>\n",
       "      <td>137</td>\n",
       "      <td>62</td>\n",
       "      <td>No</td>\n",
       "      <td>...</td>\n",
       "      <td>No</td>\n",
       "      <td>No</td>\n",
       "      <td>No</td>\n",
       "      <td>Yes</td>\n",
       "      <td>No</td>\n",
       "      <td>Yes</td>\n",
       "      <td>Yes</td>\n",
       "      <td>No</td>\n",
       "      <td>3</td>\n",
       "      <td>0JzbjZgcjugS0dmPjF9R89</td>\n",
       "    </tr>\n",
       "    <tr>\n",
       "      <th>Kansas State</th>\n",
       "      <td>Big 12</td>\n",
       "      <td>Wildcat Victory</td>\n",
       "      <td>Harry E. Erickson</td>\n",
       "      <td>1927.0</td>\n",
       "      <td>Yes</td>\n",
       "      <td>Yes</td>\n",
       "      <td>No</td>\n",
       "      <td>80</td>\n",
       "      <td>67</td>\n",
       "      <td>Yes</td>\n",
       "      <td>...</td>\n",
       "      <td>No</td>\n",
       "      <td>Yes</td>\n",
       "      <td>No</td>\n",
       "      <td>No</td>\n",
       "      <td>Yes</td>\n",
       "      <td>No</td>\n",
       "      <td>No</td>\n",
       "      <td>No</td>\n",
       "      <td>3</td>\n",
       "      <td>4xxDK4g1OHhZ44sTFy8Ktm</td>\n",
       "    </tr>\n",
       "    <tr>\n",
       "      <th>...</th>\n",
       "      <td>...</td>\n",
       "      <td>...</td>\n",
       "      <td>...</td>\n",
       "      <td>...</td>\n",
       "      <td>...</td>\n",
       "      <td>...</td>\n",
       "      <td>...</td>\n",
       "      <td>...</td>\n",
       "      <td>...</td>\n",
       "      <td>...</td>\n",
       "      <td>...</td>\n",
       "      <td>...</td>\n",
       "      <td>...</td>\n",
       "      <td>...</td>\n",
       "      <td>...</td>\n",
       "      <td>...</td>\n",
       "      <td>...</td>\n",
       "      <td>...</td>\n",
       "      <td>...</td>\n",
       "      <td>...</td>\n",
       "      <td>...</td>\n",
       "    </tr>\n",
       "    <tr>\n",
       "      <th>Syracuse</th>\n",
       "      <td>ACC</td>\n",
       "      <td>Down the Field</td>\n",
       "      <td>Ralph Murphy and C. Harold Lewis</td>\n",
       "      <td>1914.0</td>\n",
       "      <td>Yes</td>\n",
       "      <td>Yes</td>\n",
       "      <td>No</td>\n",
       "      <td>137</td>\n",
       "      <td>85</td>\n",
       "      <td>Yes</td>\n",
       "      <td>...</td>\n",
       "      <td>No</td>\n",
       "      <td>Yes</td>\n",
       "      <td>Yes</td>\n",
       "      <td>No</td>\n",
       "      <td>Yes</td>\n",
       "      <td>Yes</td>\n",
       "      <td>Yes</td>\n",
       "      <td>No</td>\n",
       "      <td>6</td>\n",
       "      <td>4zrPkQ9AFljRbPy0JNW6cA</td>\n",
       "    </tr>\n",
       "    <tr>\n",
       "      <th>Virginia</th>\n",
       "      <td>ACC</td>\n",
       "      <td>The Good Old Song</td>\n",
       "      <td>Edward H. Craighill</td>\n",
       "      <td>1893.0</td>\n",
       "      <td>Yes</td>\n",
       "      <td>No</td>\n",
       "      <td>No</td>\n",
       "      <td>112</td>\n",
       "      <td>42</td>\n",
       "      <td>No</td>\n",
       "      <td>...</td>\n",
       "      <td>No</td>\n",
       "      <td>No</td>\n",
       "      <td>Yes</td>\n",
       "      <td>Yes</td>\n",
       "      <td>No</td>\n",
       "      <td>No</td>\n",
       "      <td>No</td>\n",
       "      <td>Yes</td>\n",
       "      <td>3</td>\n",
       "      <td>4zymLpKnHG2KURvrSUyUy8</td>\n",
       "    </tr>\n",
       "    <tr>\n",
       "      <th>Virginia Tech</th>\n",
       "      <td>ACC</td>\n",
       "      <td>Tech Triumph</td>\n",
       "      <td>Wilfred P. Maddux and Mattie Eppes</td>\n",
       "      <td>1919.0</td>\n",
       "      <td>Yes</td>\n",
       "      <td>Yes</td>\n",
       "      <td>No</td>\n",
       "      <td>133</td>\n",
       "      <td>71</td>\n",
       "      <td>No</td>\n",
       "      <td>...</td>\n",
       "      <td>Yes</td>\n",
       "      <td>Yes</td>\n",
       "      <td>No</td>\n",
       "      <td>Yes</td>\n",
       "      <td>Yes</td>\n",
       "      <td>Yes</td>\n",
       "      <td>No</td>\n",
       "      <td>Yes</td>\n",
       "      <td>5</td>\n",
       "      <td>5v3wGg8VMD8MMYGb8SXBss</td>\n",
       "    </tr>\n",
       "    <tr>\n",
       "      <th>Wake Forest</th>\n",
       "      <td>ACC</td>\n",
       "      <td>O Here's To Wake Forest</td>\n",
       "      <td>C.P. Weaver</td>\n",
       "      <td>1908.0</td>\n",
       "      <td>No</td>\n",
       "      <td>Yes</td>\n",
       "      <td>No</td>\n",
       "      <td>146</td>\n",
       "      <td>69</td>\n",
       "      <td>No</td>\n",
       "      <td>...</td>\n",
       "      <td>No</td>\n",
       "      <td>No</td>\n",
       "      <td>Yes</td>\n",
       "      <td>No</td>\n",
       "      <td>Yes</td>\n",
       "      <td>Yes</td>\n",
       "      <td>No</td>\n",
       "      <td>No</td>\n",
       "      <td>3</td>\n",
       "      <td>3u6THWNCTIdCcGIcJ1FQsN</td>\n",
       "    </tr>\n",
       "    <tr>\n",
       "      <th>Brigham Young University</th>\n",
       "      <td>Independent</td>\n",
       "      <td>Cougar Fight Song</td>\n",
       "      <td>Clyde D. Sandgren</td>\n",
       "      <td>1946.0</td>\n",
       "      <td>Yes</td>\n",
       "      <td>Yes</td>\n",
       "      <td>No</td>\n",
       "      <td>145</td>\n",
       "      <td>95</td>\n",
       "      <td>Yes</td>\n",
       "      <td>...</td>\n",
       "      <td>No</td>\n",
       "      <td>Yes</td>\n",
       "      <td>Yes</td>\n",
       "      <td>No</td>\n",
       "      <td>Yes</td>\n",
       "      <td>No*</td>\n",
       "      <td>Yes</td>\n",
       "      <td>Yes</td>\n",
       "      <td>7</td>\n",
       "      <td>71FeZngR7oqU8Pnd3XSBdp</td>\n",
       "    </tr>\n",
       "  </tbody>\n",
       "</table>\n",
       "<p>66 rows × 22 columns</p>\n",
       "</div>"
      ],
      "text/plain": [
       "                           conference                song_name  \\\n",
       "school                                                           \n",
       "Notre Dame                Independent            Victory March   \n",
       "Baylor                         Big 12                Old Fight   \n",
       "Iowa State                     Big 12        Iowa State Fights   \n",
       "Kansas                         Big 12            I'm a Jayhawk   \n",
       "Kansas State                   Big 12          Wildcat Victory   \n",
       "...                               ...                      ...   \n",
       "Syracuse                          ACC           Down the Field   \n",
       "Virginia                          ACC        The Good Old Song   \n",
       "Virginia Tech                     ACC             Tech Triumph   \n",
       "Wake Forest                       ACC  O Here's To Wake Forest   \n",
       "Brigham Young University  Independent        Cougar Fight Song   \n",
       "\n",
       "                                                                    writers  \\\n",
       "school                                                                        \n",
       "Notre Dame                                 Michael J. Shea and John F. Shea   \n",
       "Baylor                                           Dick Baker and Frank Boggs   \n",
       "Iowa State                Jack Barker, Manly Rice, Paul Gnam, Rosalind K...   \n",
       "Kansas                                                George \"Dumpy\" Bowles   \n",
       "Kansas State                                              Harry E. Erickson   \n",
       "...                                                                     ...   \n",
       "Syracuse                                   Ralph Murphy and C. Harold Lewis   \n",
       "Virginia                                                Edward H. Craighill   \n",
       "Virginia Tech                            Wilfred P. Maddux and Mattie Eppes   \n",
       "Wake Forest                                                     C.P. Weaver   \n",
       "Brigham Young University                                  Clyde D. Sandgren   \n",
       "\n",
       "                            year student_writer official_song contest  bpm  \\\n",
       "school                                                                       \n",
       "Notre Dame                1908.0             No           Yes      No  152   \n",
       "Baylor                    1947.0            Yes           Yes      No   76   \n",
       "Iowa State                1930.0            Yes           Yes      No  155   \n",
       "Kansas                    1912.0            Yes           Yes      No  137   \n",
       "Kansas State              1927.0            Yes           Yes      No   80   \n",
       "...                          ...            ...           ...     ...  ...   \n",
       "Syracuse                  1914.0            Yes           Yes      No  137   \n",
       "Virginia                  1893.0            Yes            No      No  112   \n",
       "Virginia Tech             1919.0            Yes           Yes      No  133   \n",
       "Wake Forest               1908.0             No           Yes      No  146   \n",
       "Brigham Young University  1946.0            Yes           Yes      No  145   \n",
       "\n",
       "                          sec_duration fight  ...  win_won victory_win_won  \\\n",
       "school                                        ...                            \n",
       "Notre Dame                          64   Yes  ...      Yes             Yes   \n",
       "Baylor                              99   Yes  ...      Yes             Yes   \n",
       "Iowa State                          55   Yes  ...       No              No   \n",
       "Kansas                              62    No  ...       No              No   \n",
       "Kansas State                        67   Yes  ...       No             Yes   \n",
       "...                                ...   ...  ...      ...             ...   \n",
       "Syracuse                            85   Yes  ...       No             Yes   \n",
       "Virginia                            42    No  ...       No              No   \n",
       "Virginia Tech                       71    No  ...      Yes             Yes   \n",
       "Wake Forest                         69    No  ...       No              No   \n",
       "Brigham Young University            95   Yes  ...       No             Yes   \n",
       "\n",
       "                          rah nonsense colors  men opponents spelling  \\\n",
       "school                                                                  \n",
       "Notre Dame                Yes       No    Yes  Yes        No       No   \n",
       "Baylor                     No       No    Yes   No        No      Yes   \n",
       "Iowa State                Yes       No     No  Yes        No      Yes   \n",
       "Kansas                     No      Yes     No  Yes       Yes       No   \n",
       "Kansas State               No       No    Yes   No        No       No   \n",
       "...                       ...      ...    ...  ...       ...      ...   \n",
       "Syracuse                  Yes       No    Yes  Yes       Yes       No   \n",
       "Virginia                  Yes      Yes     No   No        No      Yes   \n",
       "Virginia Tech              No      Yes    Yes  Yes        No      Yes   \n",
       "Wake Forest               Yes       No    Yes  Yes        No       No   \n",
       "Brigham Young University  Yes       No    Yes  No*       Yes      Yes   \n",
       "\n",
       "                         trope_count              spotify_id  \n",
       "school                                                        \n",
       "Notre Dame                         6  15a3ShKX3XWKzq0lSS48yr  \n",
       "Baylor                             5  2ZsaI0Cu4nz8DHfBkPt0Dl  \n",
       "Iowa State                         4  3yyfoOXZQCtR6pfRJqu9pl  \n",
       "Kansas                             3  0JzbjZgcjugS0dmPjF9R89  \n",
       "Kansas State                       3  4xxDK4g1OHhZ44sTFy8Ktm  \n",
       "...                              ...                     ...  \n",
       "Syracuse                           6  4zrPkQ9AFljRbPy0JNW6cA  \n",
       "Virginia                           3  4zymLpKnHG2KURvrSUyUy8  \n",
       "Virginia Tech                      5  5v3wGg8VMD8MMYGb8SXBss  \n",
       "Wake Forest                        3  3u6THWNCTIdCcGIcJ1FQsN  \n",
       "Brigham Young University           7  71FeZngR7oqU8Pnd3XSBdp  \n",
       "\n",
       "[66 rows x 22 columns]"
      ]
     },
     "execution_count": 10,
     "metadata": {},
     "output_type": "execute_result"
    }
   ],
   "source": [
    "fight_song_data = fight_song_data.append(byu_data)\n",
    "fight_song_data"
   ]
  },
  {
   "cell_type": "code",
   "execution_count": 11,
   "metadata": {},
   "outputs": [
    {
     "data": {
      "text/plain": [
       "<matplotlib.lines.Line2D at 0x128396dc0>"
      ]
     },
     "execution_count": 11,
     "metadata": {},
     "output_type": "execute_result"
    },
    {
     "data": {
      "image/png": "[encoded data removed]",
      "text/plain": [
       "<Figure size 1080x360 with 1 Axes>"
      ]
     },
     "metadata": {},
     "output_type": "display_data"
    }
   ],
   "source": [
    "conferences = fight_song_data.groupby('conference')\n",
    "\n",
    "# Plot\n",
    "fig, ax = plt.subplots()\n",
    "ax.margins(0.05) # Optional, just adds 5% padding to the autoscaling\n",
    "for name, conference in conferences:\n",
    "    ax.plot(conference.sec_duration, conference.bpm, marker='o', linestyle='', ms=12, label=name)\n",
    "ax.legend()\n",
    "\n",
    "bpm_and_duration = fight_song_data[['bpm', 'sec_duration']]\n",
    "bpm_and_duration_means = bpm_and_duration.mean()\n",
    "ax.axvline(bpm_and_duration_means['sec_duration'])\n",
    "ax.axhline(bpm_and_duration_means['bpm'])\n"
   ]
  },
  {
   "cell_type": "markdown",
   "metadata": {},
   "source": [
    "**How does BYU compare to the rest of the fight songs in the country?**"
   ]
  },
  {
   "cell_type": "markdown",
   "metadata": {},
   "source": [
    "> BYU was on the later end of when the songs were written.  They has a previous song however so this was an update.  The song has far more tropes than most fight songs however.  Seven currently, but eight as written ties it for the most trope filled song in the data set.  It is basically a cliché.  The only ones it missed were nonsense words and win/won in the text although that was definately implied by the word vanquish.  A minor expansion of the definition for that column to include close synonymns would put BYU in first place."
   ]
  },
  {
   "cell_type": "markdown",
   "metadata": {},
   "source": [
    "## Problem 6\n",
    "\n",
    "What additional analysis do you think would be interesting for this dataset?  Another way to phrase the question is what analytics questions are interesting about fight songs?\n",
    "\n",
    "Is there any additinoal data that you would need to go out and find?\n",
    "\n",
    "How would you go about collecting this data?"
   ]
  },
  {
   "cell_type": "code",
   "execution_count": 12,
   "metadata": {},
   "outputs": [
    {
     "name": "stdout",
     "output_type": "stream",
     "text": [
      "year             1927.065574\n",
      "bpm               129.045455\n",
      "sec_duration       72.257576\n",
      "number_fights       2.818182\n",
      "trope_count         3.666667\n",
      "dtype: float64\n"
     ]
    },
    {
     "data": {
      "text/plain": [
       "<AxesSubplot:ylabel='Frequency'>"
      ]
     },
     "execution_count": 12,
     "metadata": {},
     "output_type": "execute_result"
    },
    {
     "data": {
      "image/png": "[encoded data removed]",
      "text/plain": [
       "<Figure size 1080x360 with 1 Axes>"
      ]
     },
     "metadata": {},
     "output_type": "display_data"
    }
   ],
   "source": [
    "print(fight_song_data.mean(axis=0))\n",
    "fight_song_data['trope_count'].plot.hist()\n"
   ]
  },
  {
   "cell_type": "markdown",
   "metadata": {},
   "source": [
    "> With BYU added to the mix there are a number of interesting questions.  Answer will vary for this question, but an obvious candidate is to look at the change in tropes over time.  Did songs get more cliched as time passes?"
   ]
  },
  {
   "cell_type": "code",
   "execution_count": 13,
   "metadata": {},
   "outputs": [
    {
     "data": {
      "text/plain": [
       "<AxesSubplot:xlabel='year', ylabel='trope_count'>"
      ]
     },
     "execution_count": 13,
     "metadata": {},
     "output_type": "execute_result"
    },
    {
     "data": {
      "image/png": "[encoded data removed]",
      "text/plain": [
       "<Figure size 1080x360 with 1 Axes>"
      ]
     },
     "metadata": {},
     "output_type": "display_data"
    }
   ],
   "source": [
    "fight_song_data.plot.scatter(x='year', y='trope_count')"
   ]
  }
 ],
 "metadata": {
  "kernelspec": {
   "display_name": "Python 3",
   "language": "python",
   "name": "python3"
  },
  "language_info": {
   "codemirror_mode": {
    "name": "ipython",
    "version": 3
   },
   "file_extension": ".py",
   "mimetype": "text/x-python",
   "name": "python",
   "nbconvert_exporter": "python",
   "pygments_lexer": "ipython3",
   "version": "3.8.5"
  }
 },
 "nbformat": 4,
 "nbformat_minor": 4
}
